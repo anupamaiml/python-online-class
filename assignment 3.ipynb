{
 "cells": [
  {
   "cell_type": "markdown",
   "metadata": {},
   "source": [
    "# Task 1:\n",
    "Look at the following program source code.  When the program is run, the sum of the numbers are not printed out.  Explain why this is so.\n",
    "\n"
   ]
  },
  {
   "cell_type": "code",
   "execution_count": 3,
   "metadata": {},
   "outputs": [
    {
     "name": "stdout",
     "output_type": "stream",
     "text": [
      "What is your first number? 33\n",
      "What is your second number? 44\n",
      "What is your third number? 55\n",
      "What is your fourth number? 66\n",
      "What is your fifth number? 77\n",
      "The sum is:  3344556677\n"
     ]
    }
   ],
   "source": [
    "num1 = input('What is your first number? ')\n",
    "num2 = input('What is your second number? ')\n",
    "num3 = input('What is your third number? ')\n",
    "num4 = input('What is your fourth number? ')\n",
    "num5 = input('What is your fifth number? ')\n",
    "sum = num1+num2+num3+num4+num5\n",
    "print('The sum is: ', sum)\n",
    "\n"
   ]
  },
  {
   "cell_type": "markdown",
   "metadata": {},
   "source": [
    "## Task 2:\n",
    "Write a program to accept a number from the user and check if the number is already available in a given list x then ask the user to enter a new number. Collect 5 numbers and then print the even numbers if available out of the list.\n"
   ]
  },
  {
   "cell_type": "code",
   "execution_count": 7,
   "metadata": {},
   "outputs": [
    {
     "name": "stdout",
     "output_type": "stream",
     "text": [
      "10 4 66 "
     ]
    }
   ],
   "source": [
    "# Python program to print Even Numbers in a List \n",
    "  \n",
    "# list of numbers \n",
    "list1 = [10, 21, 4, 45, 66, 93] \n",
    "  \n",
    "# iterating each number in list \n",
    "for num in list1: \n",
    "      \n",
    "    # checking condition \n",
    "    if num % 2 == 0: \n",
    "         print(num, end = \" \")"
   ]
  },
  {
   "cell_type": "markdown",
   "metadata": {},
   "source": [
    "## Task 3:\n",
    "The IF Statement is a type of control structure that is used for evaluating whether statements are true or false.  Use the following words to fill in the blanks in the flowchart.\n"
   ]
  },
  {
   "cell_type": "code",
   "execution_count": null,
   "metadata": {},
   "outputs": [],
   "source": []
  },
  {
   "cell_type": "markdown",
   "metadata": {},
   "source": [
    "##  Task 4:\n",
    "Rewrite the following statement in a strict syntax of Python.\n",
    "\n",
    "if <condidtion> is true then print <message A> else print <message B.\n",
    "\n",
    " "
   ]
  },
  {
   "cell_type": "code",
   "execution_count": 2,
   "metadata": {},
   "outputs": [
    {
     "ename": "SyntaxError",
     "evalue": "invalid syntax (<ipython-input-2-9f90f36e58e2>, line 3)",
     "output_type": "error",
     "traceback": [
      "\u001b[1;36m  File \u001b[1;32m\"<ipython-input-2-9f90f36e58e2>\"\u001b[1;36m, line \u001b[1;32m3\u001b[0m\n\u001b[1;33m    >print \"message A\"\u001b[0m\n\u001b[1;37m    ^\u001b[0m\n\u001b[1;31mSyntaxError\u001b[0m\u001b[1;31m:\u001b[0m invalid syntax\n"
     ]
    }
   ],
   "source": [
    "if (a==b):\n",
    "\n",
    "    >print \"message A\"\n",
    "\n",
    "else:\n",
    "\n",
    "    >print \"message B\""
   ]
  },
  {
   "cell_type": "markdown",
   "metadata": {},
   "source": [
    "##  Task 5: \n",
    "Write the source for Python below for a program that performs the following:\n",
    "1.\tPrints a typical welcome message\n",
    "2.\tFollowed by a request to input one’s name and age\n",
    "3.\tAssigns these two items of data to variables\n",
    "4.\tOutputs the message: \n",
    "\n",
    "‘Nice to meet you <name variable>, you are <age variable> years old!’\n"
   ]
  },
  {
   "cell_type": "markdown",
   "metadata": {},
   "source": [
    "## Task 6: \n",
    "Jenny is trying to write a program for her youth club which asks the user to type in their age.  If the user’s age is between 10 and 14, then they are eligible to be members.  That means, a child who is 10, 11, 12, 13 or 14 can join. If they are not in this age range, they are not eligible to be members.  Here is her program below:\n"
   ]
  },
  {
   "cell_type": "code",
   "execution_count": 1,
   "metadata": {},
   "outputs": [
    {
     "ename": "SyntaxError",
     "evalue": "invalid syntax (<ipython-input-1-926315706018>, line 2)",
     "output_type": "error",
     "traceback": [
      "\u001b[1;36m  File \u001b[1;32m\"<ipython-input-1-926315706018>\"\u001b[1;36m, line \u001b[1;32m2\u001b[0m\n\u001b[1;33m    if (age >10) or (age> 14)\u001b[0m\n\u001b[1;37m                             ^\u001b[0m\n\u001b[1;31mSyntaxError\u001b[0m\u001b[1;31m:\u001b[0m invalid syntax\n"
     ]
    }
   ],
   "source": [
    "age = int(input('Enter your age please'))\n",
    "if (age >10) or (age> 14)\n",
    "    print('You can join the Youth Club!')\n",
    "else:\n",
    "    print('Sorry, you are not the right age :(')\n"
   ]
  }
 ],
 "metadata": {
  "kernelspec": {
   "display_name": "Python 3",
   "language": "python",
   "name": "python3"
  },
  "language_info": {
   "codemirror_mode": {
    "name": "ipython",
    "version": 3
   },
   "file_extension": ".py",
   "mimetype": "text/x-python",
   "name": "python",
   "nbconvert_exporter": "python",
   "pygments_lexer": "ipython3",
   "version": "3.7.6"
  }
 },
 "nbformat": 4,
 "nbformat_minor": 4
}
